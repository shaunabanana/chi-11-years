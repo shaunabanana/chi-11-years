{
 "cells": [
  {
   "cell_type": "code",
   "execution_count": 36,
   "id": "e53d38bb",
   "metadata": {},
   "outputs": [],
   "source": [
    "from glob import glob\n",
    "from pybtex.database import parse_file\n",
    "\n",
    "bibfiles = glob('./data/*.bib')\n",
    "bibfiles.sort()\n",
    "allbibs = ''\n",
    "\n",
    "for bibfile in bibfiles:\n",
    "    with open(bibfile) as f:\n",
    "        allbibs += f.read() + '\\n'"
   ]
  },
  {
   "cell_type": "code",
   "execution_count": 37,
   "id": "60a5143a",
   "metadata": {},
   "outputs": [
    {
     "data": {
      "text/plain": [
       "6320"
      ]
     },
     "execution_count": 37,
     "metadata": {},
     "output_type": "execute_result"
    }
   ],
   "source": [
    "from pybtex.database import parse_string\n",
    "\n",
    "bib = parse_string(allbibs, 'bibtex')\n",
    "len(bib.entries)"
   ]
  },
  {
   "cell_type": "code",
   "execution_count": 38,
   "id": "fb3986d0",
   "metadata": {},
   "outputs": [],
   "source": [
    "bib.to_file('./data/all_entries.bib')"
   ]
  },
  {
   "cell_type": "code",
   "execution_count": 51,
   "id": "14cfa207",
   "metadata": {},
   "outputs": [
    {
     "data": {
      "text/plain": [
       "5784"
      ]
     },
     "execution_count": 51,
     "metadata": {},
     "output_type": "execute_result"
    }
   ],
   "source": [
    "from pybtex.database import BibliographyData\n",
    "\n",
    "clean_bib = BibliographyData()\n",
    "for key in bib.entries:\n",
    "    if 'abstract' not in bib.entries[key].fields:\n",
    "        if bib.entries[key].type == 'dataset':\n",
    "            continue\n",
    "        elif bib.entries[key].type == 'inproceedings':\n",
    "            if bib.entries[key].fields['title'].startswith('Session Details'):\n",
    "                continue\n",
    "            elif bib.entries[key].fields['title'].startswith('CHI Madness'):\n",
    "                continue\n",
    "    \n",
    "    clean_bib.add_entry(key, bib.entries[key])\n",
    "        \n",
    "clean_bib.to_file('./data/all_entries_clean.bib')\n",
    "len(clean_bib.entries)"
   ]
  },
  {
   "cell_type": "code",
   "execution_count": 13,
   "id": "2201dfb9",
   "metadata": {},
   "outputs": [
    {
     "name": "stdout",
     "output_type": "stream",
     "text": [
      "Help on method add_entries in module pybtex.database:\n",
      "\n",
      "add_entries(entries) method of pybtex.database.BibliographyData instance\n",
      "\n"
     ]
    }
   ],
   "source": [
    "help(bib.add_entries)"
   ]
  },
  {
   "cell_type": "code",
   "execution_count": 56,
   "id": "45215ba0",
   "metadata": {},
   "outputs": [],
   "source": [
    "years = set()\n",
    "for key in clean_bib.entries:\n",
    "    years.add(bib.entries[key].fields['year'])\n",
    "print(years)\n",
    "\n",
    "# for year in range(2011, 2023):\n",
    "for year in years:\n",
    "    yearly_bib = BibliographyData()\n",
    "    for key in clean_bib.entries:\n",
    "        if bib.entries[key].fields['year'] == str(year):\n",
    "            yearly_bib.add_entry(key, bib.entries[key])\n",
    "    yearly_bib.to_file('./data/%s_clean.bib' % year)"
   ]
  },
  {
   "cell_type": "code",
   "execution_count": null,
   "id": "1b9cd399",
   "metadata": {},
   "outputs": [],
   "source": []
  }
 ],
 "metadata": {
  "kernelspec": {
   "display_name": "Python 3 (ipykernel)",
   "language": "python",
   "name": "python3"
  },
  "language_info": {
   "codemirror_mode": {
    "name": "ipython",
    "version": 3
   },
   "file_extension": ".py",
   "mimetype": "text/x-python",
   "name": "python",
   "nbconvert_exporter": "python",
   "pygments_lexer": "ipython3",
   "version": "3.9.7"
  }
 },
 "nbformat": 4,
 "nbformat_minor": 5
}
